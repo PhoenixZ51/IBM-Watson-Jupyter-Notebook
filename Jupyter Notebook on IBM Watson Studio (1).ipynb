{
 "cells": [
  {
   "cell_type": "markdown",
   "metadata": {
    "collapsed": true
   },
   "source": [
    "# My Jupyter Notebook on IBM Watson Studio"
   ]
  },
  {
   "cell_type": "markdown",
   "metadata": {},
   "source": [
    "## Danny Stagnaro\n",
    "Software Engineer/Developer"
   ]
  },
  {
   "cell_type": "markdown",
   "metadata": {},
   "source": [
    "_I have been interested in Data Science since just recently because I am eager to control, manipulate, edit, and use large amounts of information_"
   ]
  },
  {
   "cell_type": "markdown",
   "metadata": {},
   "source": [
    "### The code in the next cell will show a simple multiplication"
   ]
  },
  {
   "cell_type": "code",
   "execution_count": 3,
   "metadata": {},
   "outputs": [
    {
     "data": {
      "text/plain": [
       "56"
      ]
     },
     "execution_count": 3,
     "metadata": {},
     "output_type": "execute_result"
    }
   ],
   "source": [
    "7 * 8"
   ]
  },
  {
   "cell_type": "markdown",
   "metadata": {},
   "source": [
    "| Make || Model |\n",
    "| ------- || ------- |\n",
    "| * Jaguar || XJ220 |\n",
    "| * Italdesign || Cala |\n",
    "| * Mercedes || CLK-GTR |\n",
    "| * Koenigsegg || Jesko |\n",
    "| * Lamborghini || Diablo ||\n",
    "| * McLaren || F1 |\n",
    "\n",
    "[If you want a decent website to compare and find out about a few of these beauties and more](https://fastestlaps.com/)"
   ]
  }
 ],
 "metadata": {
  "kernelspec": {
   "display_name": "Python 3.9",
   "language": "python",
   "name": "python3"
  },
  "language_info": {
   "codemirror_mode": {
    "name": "ipython",
    "version": 3
   },
   "file_extension": ".py",
   "mimetype": "text/x-python",
   "name": "python",
   "nbconvert_exporter": "python",
   "pygments_lexer": "ipython3",
   "version": "3.9.12"
  }
 },
 "nbformat": 4,
 "nbformat_minor": 1
}
